{
 "cells": [
  {
   "cell_type": "code",
   "execution_count": 1,
   "metadata": {
    "collapsed": false
   },
   "outputs": [
    {
     "name": "stderr",
     "output_type": "stream",
     "text": [
      "D:\\conda\\lib\\site-packages\\sklearn\\cross_validation.py:44: DeprecationWarning: This module was deprecated in version 0.18 in favor of the model_selection module into which all the refactored classes and functions are moved. Also note that the interface of the new CV iterators are different from that of this module. This module will be removed in 0.20.\n",
      "  \"This module will be removed in 0.20.\", DeprecationWarning)\n"
     ]
    }
   ],
   "source": [
    "from sklearn.datasets import load_boston\n",
    "from sklearn.cross_validation import train_test_split\n",
    "import numpy as np\n",
    "import matplotlib.pyplot as plt\n",
    "%matplotlib inline"
   ]
  },
  {
   "cell_type": "markdown",
   "metadata": {},
   "source": [
    "# Задание 3\n",
    "## Реализация собственного дерева\n",
    "### Код"
   ]
  },
  {
   "cell_type": "code",
   "execution_count": 2,
   "metadata": {
    "collapsed": false
   },
   "outputs": [],
   "source": [
    "class Node:\n",
    "    def __init__(self, feature=None, threshold=None, left=None, right=None, answer=None):\n",
    "        self.feature = feature\n",
    "        self.threshold = threshold\n",
    "        self.left = left\n",
    "        self.right = right\n",
    "        self.answer = answer  # for leaf nodes only\n",
    "        \n",
    "\n",
    "class Splitted:  \n",
    "    def __init__(self, feature=None, threshold=None, X_left=None, y_left=None, X_right=None, y_right=None):\n",
    "        self.feature = feature\n",
    "        self.threshold = threshold\n",
    "        self.X_left = X_left\n",
    "        self.y_left = y_left\n",
    "        self.X_right = X_right\n",
    "        self.y_right = y_right\n",
    "        \n",
    "        \n",
    "class DecisionTree:\n",
    "    def __init__(self, max_depth=None):\n",
    "        self.root = None\n",
    "        self.thresholds = None\n",
    "        self.feature_num = None\n",
    "        self.max_depth = max_depth if max_depth is not None else np.inf\n",
    "        \n",
    "\n",
    "    def generate_thresholds(self, X):\n",
    "        thresholds = []\n",
    "        for i in range(self.feature_num) :\n",
    "            thresholds_i = np.unique(X[:,i])\n",
    "            size = thresholds_i.size\n",
    "            if (size > 50) :  # if we have too many unique values of the feature\n",
    "                mask = np.round(np.linspace(1, size, 50, endpoint=False)).astype(int)\n",
    "                thresholds_i = thresholds_i[mask]\n",
    "        \n",
    "            thresholds.append(thresholds_i)\n",
    "        return thresholds    \n",
    "    \n",
    "        \n",
    "    def build(self, X, y, my_depth):\n",
    "        succeeded, split = self.split(X, y)\n",
    "        \n",
    "        if (my_depth >= self.max_depth or not succeeded):\n",
    "            return Node(answer=np.mean(y))\n",
    "        \n",
    "        # recursively construct child nodes\n",
    "        left = self.build(split.X_left, split.y_left, my_depth + 1)\n",
    "        right = self.build(split.X_right, split.y_right, my_depth + 1)\n",
    "        return Node(feature=split.feature, threshold=split.threshold, left=left, right=right)\n",
    "    \n",
    "    \n",
    "    def MSE_criterion(self, y, y1, y2):\n",
    "        H_L = np.var(y1)\n",
    "        H_R = np.var(y2)\n",
    "        return H_L * len(y1) / len(y) + H_R * len(y2) / len(y)\n",
    "    \n",
    "    \n",
    "    def split(self, X, y):\n",
    "        succeeded = False\n",
    "        result = Splitted()\n",
    "        min_err = np.inf\n",
    "        \n",
    "        for f in range(self.feature_num):\n",
    "            for t in self.thresholds[f]:\n",
    "                X1, y1, X2, y2 = self.split_data(X, y, f, t)\n",
    "                if len(y1) > 0 and len(y2) > 0:\n",
    "                    err = self.MSE_criterion(y, y1, y2)\n",
    "                    if err < min_err:\n",
    "                        succeeded = True\n",
    "                        min_err = err\n",
    "                        result = Splitted(f, t, X1, y1, X2, y2)\n",
    "        return succeeded, result\n",
    "    \n",
    "    \n",
    "    def split_data(self, X, y, feature_id, threshold):\n",
    "        mask = X[:, feature_id] < threshold\n",
    "        rev_mask = np.invert(mask)\n",
    "        return np.compress(mask, X, axis=0), np.compress(mask, y), np.compress(rev_mask, X, axis=0), np.compress(rev_mask, y)\n",
    "        \n",
    "        \n",
    "    def fit(self, X, y):\n",
    "        self.feature_num = len(X[0])\n",
    "        self.thresholds = self.generate_thresholds(X)\n",
    "        self.root = self.build(X, y, 0)\n",
    "    \n",
    "    \n",
    "    def predict(self, X):\n",
    "        result = []\n",
    "        for x in X:\n",
    "            pos = self.root\n",
    "            while (pos.answer is None) :\n",
    "                pos = pos.left if x[pos.feature] < pos.threshold else pos.right\n",
    "            result.append(pos.answer)\n",
    "        return np.array(result)"
   ]
  },
  {
   "cell_type": "markdown",
   "metadata": {},
   "source": [
    "### Проверка на датасете boston"
   ]
  },
  {
   "cell_type": "code",
   "execution_count": 3,
   "metadata": {
    "collapsed": false
   },
   "outputs": [],
   "source": [
    "boston = load_boston()\n",
    "X, y = boston.data, boston.target\n",
    "X_train, X_test, y_train, y_test = train_test_split(X, y, test_size=0.25, random_state=42)"
   ]
  },
  {
   "cell_type": "code",
   "execution_count": 4,
   "metadata": {
    "collapsed": false
   },
   "outputs": [
    {
     "name": "stdout",
     "output_type": "stream",
     "text": [
      "Wall time: 47.8 s\n"
     ]
    }
   ],
   "source": [
    "%%time\n",
    "\n",
    "score = []\n",
    "for depth in np.arange(1, 15):\n",
    "    tree = DecisionTree(max_depth=depth)\n",
    "    tree.fit(X_train, y_train)\n",
    "    score.append(np.sum((y_test - tree.predict(X_test))**2) / len(y_test))"
   ]
  },
  {
   "cell_type": "code",
   "execution_count": 7,
   "metadata": {
    "collapsed": false
   },
   "outputs": [
    {
     "data": {
      "image/png": "[encoded data removed]",
      "text/plain": [
       "<matplotlib.figure.Figure at 0x9c3d4e0>"
      ]
     },
     "metadata": {},
     "output_type": "display_data"
    }
   ],
   "source": [
    "plt.figure(figsize=(12, 8))\n",
    "plt.plot(np.arange(1, 15), score, label=\"Test data\")\n",
    "plt.xlabel(\"Max. depth\")\n",
    "plt.ylabel(\"Error\")\n",
    "plt.xlim(1, 14)\n",
    "plt.ylim(0, 50)\n",
    "plt.legend()\n",
    "plt.show()"
   ]
  },
  {
   "cell_type": "code",
   "execution_count": null,
   "metadata": {
    "collapsed": true
   },
   "outputs": [],
   "source": []
  }
 ],
 "metadata": {
  "kernelspec": {
   "display_name": "Python 2",
   "language": "python",
   "name": "python2"
  },
  "language_info": {
   "codemirror_mode": {
    "name": "ipython",
    "version": 2
   },
   "file_extension": ".py",
   "mimetype": "text/x-python",
   "name": "python",
   "nbconvert_exporter": "python",
   "pygments_lexer": "ipython2",
   "version": "2.7.13"
  }
 },
 "nbformat": 4,
 "nbformat_minor": 2
}
