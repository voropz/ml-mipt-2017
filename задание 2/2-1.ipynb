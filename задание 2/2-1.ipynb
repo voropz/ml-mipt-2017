{
 "cells": [
  {
   "cell_type": "markdown",
   "metadata": {},
   "source": [
    "# Задание 1: теоретические задачи\n",
    "## 1\n",
    "Пусть значения таргетов в листе $\\{y_i\\}_{i=1}^{n}$, их среднее -- $\\overline y$.\n",
    "Подход первый: отвечать средним.\n",
    "\n",
    "$E \\sum\\limits_{i=1}^n{(y_i - \\overline y)^2} = \\sum\\limits_{i=1}^n E(y_i^2 - 2y_i\\overline y + \\overline y^2) = \\sum\\limits_{i=1}^n (y_i^2 - 2y_i\\overline y + \\overline y^2)$\n",
    "\n",
    "Подход второй: отвечать случайно\n",
    "\n",
    "$E \\sum\\limits_{i=1}^n{(y_i - \\xi)^2} = \\sum\\limits_{i=1}^n E(y_i^2 - 2y_i\\xi + \\xi^2) = \\sum\\limits_{i=1}^n (y_i^2 - 2y_iE\\xi + E\\xi^2)$\n",
    "\n",
    "Поскольку ответ выбирается равновероятно, $E\\xi = \\overline y$. Из (1) вычтем (2):\n",
    "\n",
    "$((1) - (2)) / n = (E\\xi)^2 - E\\xi^2 = -D\\xi \\leq 0$\n",
    "\n",
    "Значит, отвечать средним как минимум не хуже с точки зрения MSE, чем отвечать случайными таргетами"
   ]
  },
  {
   "cell_type": "markdown",
   "metadata": {},
   "source": [
    "\n"
   ]
  },
  {
   "cell_type": "code",
   "execution_count": null,
   "metadata": {
    "collapsed": true
   },
   "outputs": [],
   "source": []
  }
 ],
 "metadata": {
  "kernelspec": {
   "display_name": "Python 2",
   "language": "python",
   "name": "python2"
  },
  "language_info": {
   "codemirror_mode": {
    "name": "ipython",
    "version": 2
   },
   "file_extension": ".py",
   "mimetype": "text/x-python",
   "name": "python",
   "nbconvert_exporter": "python",
   "pygments_lexer": "ipython2",
   "version": "2.7.13"
  }
 },
 "nbformat": 4,
 "nbformat_minor": 2
}
