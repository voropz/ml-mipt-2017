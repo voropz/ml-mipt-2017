{
 "cells": [
  {
   "cell_type": "code",
   "execution_count": 1,
   "metadata": {
    "collapsed": false
   },
   "outputs": [
    {
     "name": "stdout",
     "output_type": "stream",
     "text": [
      "Populating the interactive namespace from numpy and matplotlib\n"
     ]
    }
   ],
   "source": [
    "from sklearn import datasets, model_selection, naive_bayes\n",
    "import numpy as np\n",
    "import matplotlib.pyplot as plt \n",
    "%pylab inline"
   ]
  },
  {
   "cell_type": "markdown",
   "metadata": {},
   "source": [
    "# Задание 2\n",
    "## Наивный байесовский классификатор\n",
    "### Загрузка данных и просмотр"
   ]
  },
  {
   "cell_type": "code",
   "execution_count": 2,
   "metadata": {
    "collapsed": false
   },
   "outputs": [],
   "source": [
    "digits = datasets.load_digits()\n",
    "cancer = datasets.load_breast_cancer()"
   ]
  },
  {
   "cell_type": "markdown",
   "metadata": {},
   "source": [
    "Сет **digits** состоит из полей data, images, target и target_names. В первых двух (в разных форматах) хранятся 64 признака, принимающие целочисленные значения от 0 до 16. Признак определяет яркость соответствующего пиксела в изображении 8х8.  Target -- номер категории, т.е. цифра.\n",
    "\n",
    "Пример: 42 элемент -- это единица. "
   ]
  },
  {
   "cell_type": "code",
   "execution_count": 3,
   "metadata": {
    "collapsed": false
   },
   "outputs": [
    {
     "name": "stdout",
     "output_type": "stream",
     "text": [
      "1797 [  0.   0.   0.   0.  12.   5.   0.   0.   0.   0.   0.   2.  16.  12.   0.\n",
      "   0.   0.   0.   1.  12.  16.  11.   0.   0.   0.   2.  12.  16.  16.  10.\n",
      "   0.   0.   0.   6.  11.   5.  15.   6.   0.   0.   0.   0.   0.   1.  16.\n",
      "   9.   0.   0.   0.   0.   0.   2.  16.  11.   0.   0.   0.   0.   0.   3.\n",
      "  16.   8.   0.   0.]\n"
     ]
    }
   ],
   "source": [
    "print len(digits.data), digits.data[42]"
   ]
  },
  {
   "cell_type": "code",
   "execution_count": 4,
   "metadata": {
    "collapsed": false
   },
   "outputs": [
    {
     "data": {
      "text/plain": [
       "<matplotlib.figure.Figure at 0x997f748>"
      ]
     },
     "metadata": {},
     "output_type": "display_data"
    },
    {
     "data": {
      "image/png": "[encoded data removed]",
      "text/plain": [
       "<matplotlib.figure.Figure at 0x9994be0>"
      ]
     },
     "metadata": {},
     "output_type": "display_data"
    }
   ],
   "source": [
    "plt.gray() \n",
    "plt.matshow(digits.images[42]) \n",
    "plt.show()"
   ]
  },
  {
   "cell_type": "code",
   "execution_count": 5,
   "metadata": {
    "collapsed": false
   },
   "outputs": [
    {
     "name": "stdout",
     "output_type": "stream",
     "text": [
      "1797 1\n"
     ]
    }
   ],
   "source": [
    "print len(digits.target), digits.target[42]"
   ]
  },
  {
   "cell_type": "code",
   "execution_count": 6,
   "metadata": {
    "collapsed": false
   },
   "outputs": [
    {
     "name": "stdout",
     "output_type": "stream",
     "text": [
      "10 1\n"
     ]
    }
   ],
   "source": [
    "print len(digits.target_names), digits.target_names[1]"
   ]
  },
  {
   "cell_type": "markdown",
   "metadata": {},
   "source": [
    "В **cancer** даются 30 числовых (рациональных неотрицательных) признаков, являющихся результатами 10 различных медицинских измерений, и 2 класса для классификации: malignat и benign"
   ]
  },
  {
   "cell_type": "code",
   "execution_count": 7,
   "metadata": {
    "collapsed": false
   },
   "outputs": [
    {
     "name": "stdout",
     "output_type": "stream",
     "text": [
      "30 ['mean radius' 'mean texture' 'mean perimeter' 'mean area'\n",
      " 'mean smoothness' 'mean compactness' 'mean concavity'\n",
      " 'mean concave points' 'mean symmetry' 'mean fractal dimension'\n",
      " 'radius error' 'texture error' 'perimeter error' 'area error'\n",
      " 'smoothness error' 'compactness error' 'concavity error'\n",
      " 'concave points error' 'symmetry error' 'fractal dimension error'\n",
      " 'worst radius' 'worst texture' 'worst perimeter' 'worst area'\n",
      " 'worst smoothness' 'worst compactness' 'worst concavity'\n",
      " 'worst concave points' 'worst symmetry' 'worst fractal dimension']\n"
     ]
    }
   ],
   "source": [
    "print len(cancer.feature_names), cancer.feature_names"
   ]
  },
  {
   "cell_type": "code",
   "execution_count": 8,
   "metadata": {
    "collapsed": false
   },
   "outputs": [
    {
     "name": "stdout",
     "output_type": "stream",
     "text": [
      "569 [  1.90700000e+01   2.48100000e+01   1.28300000e+02   1.10400000e+03\n",
      "   9.08100000e-02   2.19000000e-01   2.10700000e-01   9.96100000e-02\n",
      "   2.31000000e-01   6.34300000e-02   9.81100000e-01   1.66600000e+00\n",
      "   8.83000000e+00   1.04900000e+02   6.54800000e-03   1.00600000e-01\n",
      "   9.72300000e-02   2.63800000e-02   5.33300000e-02   7.64600000e-03\n",
      "   2.40900000e+01   3.31700000e+01   1.77400000e+02   1.65100000e+03\n",
      "   1.24700000e-01   7.44400000e-01   7.24200000e-01   2.49300000e-01\n",
      "   4.67000000e-01   1.03800000e-01]\n"
     ]
    }
   ],
   "source": [
    "print len(cancer.data), cancer.data[42]"
   ]
  },
  {
   "cell_type": "code",
   "execution_count": 9,
   "metadata": {
    "collapsed": false
   },
   "outputs": [
    {
     "name": "stdout",
     "output_type": "stream",
     "text": [
      "569 0\n"
     ]
    }
   ],
   "source": [
    "print len(cancer.target), cancer.target[42]"
   ]
  },
  {
   "cell_type": "code",
   "execution_count": 10,
   "metadata": {
    "collapsed": false
   },
   "outputs": [
    {
     "name": "stdout",
     "output_type": "stream",
     "text": [
      "2 ['malignant' 'benign']\n"
     ]
    }
   ],
   "source": [
    "print len(cancer.target_names), cancer.target_names"
   ]
  },
  {
   "cell_type": "markdown",
   "metadata": {},
   "source": [
    "### Сравнение классификаторов"
   ]
  },
  {
   "cell_type": "code",
   "execution_count": 11,
   "metadata": {
    "collapsed": true
   },
   "outputs": [],
   "source": [
    "def get_scores(x, y):\n",
    "    estimators = [naive_bayes.BernoulliNB(), naive_bayes.MultinomialNB(), naive_bayes.GaussianNB()]\n",
    "    scores = []\n",
    "    for e in estimators:\n",
    "        scores.append(np.mean(model_selection.cross_val_score(e, x, y)))\n",
    "    return scores"
   ]
  },
  {
   "cell_type": "markdown",
   "metadata": {},
   "source": [
    "Сет digits:"
   ]
  },
  {
   "cell_type": "code",
   "execution_count": 12,
   "metadata": {
    "collapsed": false
   },
   "outputs": [
    {
     "name": "stdout",
     "output_type": "stream",
     "text": [
      "[('Bernoulli', 0.82582365077805819), ('Multinomial', 0.87087714897350532), ('Gaussian', 0.81860038035501381)]\n"
     ]
    }
   ],
   "source": [
    "print zip(['Bernoulli', 'Multinomial', 'Gaussian'], get_scores(digits.data, digits.target))"
   ]
  },
  {
   "cell_type": "markdown",
   "metadata": {},
   "source": [
    "Максимальное качество 0.87 достигнуто мультиномиальным н.б. классификатором.\n",
    "\n",
    "Сет cancer:"
   ]
  },
  {
   "cell_type": "code",
   "execution_count": 13,
   "metadata": {
    "collapsed": false
   },
   "outputs": [
    {
     "name": "stdout",
     "output_type": "stream",
     "text": [
      "[('Bernoulli', 0.62742040285899936), ('Multinomial', 0.89457904019307521), ('Gaussian', 0.9367492806089297)]\n"
     ]
    }
   ],
   "source": [
    "print zip(['Bernoulli', 'Multinomial', 'Gaussian'], get_scores(cancer.data, cancer.target))"
   ]
  },
  {
   "cell_type": "markdown",
   "metadata": {},
   "source": [
    "Максимальное качество 0.94 достигнуто гауссовским н.б. классификатором.\n",
    "\n",
    "Ожидаемо плохо себя показал классификатор с бернуллиевским распределением. Действительно, признаки в данных задачах не являются бинарными по своей природе. Впрочем, в случае рукописных цифр бинаризация сработала хорошо и обоснована логически (есть черта / нет черты).\n",
    "\n",
    "Таким образом, *а* и *b* неверны, *с* верно (признаки в digits -- целые неотрицательные от 0 до 16), *d* верно (признаки в cancer -- вещественные и, как правило, не целые).\n",
    "\n"
   ]
  },
  {
   "cell_type": "code",
   "execution_count": null,
   "metadata": {
    "collapsed": true
   },
   "outputs": [],
   "source": []
  }
 ],
 "metadata": {
  "kernelspec": {
   "display_name": "Python 2",
   "language": "python",
   "name": "python2"
  },
  "language_info": {
   "codemirror_mode": {
    "name": "ipython",
    "version": 2
   },
   "file_extension": ".py",
   "mimetype": "text/x-python",
   "name": "python",
   "nbconvert_exporter": "python",
   "pygments_lexer": "ipython2",
   "version": "2.7.13"
  }
 },
 "nbformat": 4,
 "nbformat_minor": 2
}
