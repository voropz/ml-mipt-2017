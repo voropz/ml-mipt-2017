{
 "cells": [
  {
   "cell_type": "markdown",
   "metadata": {},
   "source": [
    "## Задание 4\n",
    "### Наивный байес и центроидный классификатор\n",
    "По определению наивного байесовского классификатора, $a(x) = argmax_y(P(y) * \\prod_{k=1}^n P(x^{(k)}|y))$. Из равенства априорных вероятностей, $P(y)$ не влияет на результат. \n",
    "\n",
    "$a(x) = argmax_y(\\prod_{k=1}^n {\\frac{1}{2\\pi\\sigma^2}}exp(-\\frac{1}{2\\sigma^2}\\sum_{k=1}^n(x^{(k)}-\\mu_{yk})^2))$\n",
    "\n",
    "$= argmax_y(exp(-\\sum_{k=1}^n(x^{(k)}-\\mu_{yk})^2)) =$\n",
    "\n",
    "$= argmin_y(\\sum_{k=1}^n(x^{(k)}-\\mu_{yk})^2) = a(x)$\n",
    "\n",
    "Последнее является минимизацией расстояния от точки до центра класса в пространстве признаков."
   ]
  },
  {
   "cell_type": "markdown",
   "metadata": {},
   "source": [
    "### ROC-AUC случайных ответов\n",
    "Без ограничения общности предположим, что выборка отсортирована, т.е. нумерация такова, что элементы $[1...k]$ принадлежат классу 1, а $[(k+1)...n]$ -- классу 0. Пусть $\\xi(i)$ - ответ классификатора (0 или 1) на i элементе выборки. Тогда \n",
    "\n",
    "$True Positives = \\sum_{i=1}^k\\xi(i)$, \n",
    "\n",
    "$False Positives = \\sum_{i=k+1}^n\\xi(i)$,\n",
    "\n",
    "$True Negatives = \\sum_{i=k+1}^n(1 - \\xi(i))$,\n",
    "\n",
    "$False Negatives = \\sum_{i=1}^k(1 - \\xi(i))$.\n",
    "\n",
    "$TPR = \\frac{True Positives}{True Positives + False Negatives} = \\frac{\\sum_{i=1}^k\\xi(i)}{k}$\n",
    "\n",
    "$FPR = \\frac{False Positives}{False Positives + True Negatives} = \\frac{\\sum_{i=k+1}^n\\xi(i)}{n - k}$\n",
    "\n",
    "$E(TPR) = \\frac{\\sum_{i=1}^kE(\\xi(i))}{k} = \\frac{kp}{k} = p$\n",
    "\n",
    "$E(FPR) = \\frac{\\sum_{i=k+1}^nE(\\xi(i))}{n-k} = \\frac{(n-k)p}{n-k} = p$\n",
    "\n",
    "Значит, в среднем, третья точка треугольного ROC-AUC имеет координаты (p, p), т.е. лежит на прямой y=x. Площадь под графиком равна 0,5."
   ]
  },
  {
   "cell_type": "code",
   "execution_count": null,
   "metadata": {
    "collapsed": true
   },
   "outputs": [],
   "source": []
  }
 ],
 "metadata": {
  "kernelspec": {
   "display_name": "Python 2",
   "language": "python",
   "name": "python2"
  },
  "language_info": {
   "codemirror_mode": {
    "name": "ipython",
    "version": 2
   },
   "file_extension": ".py",
   "mimetype": "text/x-python",
   "name": "python",
   "nbconvert_exporter": "python",
   "pygments_lexer": "ipython2",
   "version": "2.7.13"
  }
 },
 "nbformat": 4,
 "nbformat_minor": 2
}
